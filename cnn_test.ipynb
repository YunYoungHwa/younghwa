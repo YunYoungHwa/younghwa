{
  "nbformat": 4,
  "nbformat_minor": 0,
  "metadata": {
    "colab": {
      "name": "cnn-test.ipynb",
      "provenance": [],
      "collapsed_sections": [],
      "authorship_tag": "ABX9TyPNjNOwZWQrVMZ812fmzrkh",
      "include_colab_link": true
    },
    "kernelspec": {
      "name": "python3",
      "display_name": "Python 3"
    },
    "accelerator": "GPU"
  },
  "cells": [
    {
      "cell_type": "markdown",
      "metadata": {
        "id": "view-in-github",
        "colab_type": "text"
      },
      "source": [
        "<a href=\"https://colab.research.google.com/github/YunYoungHwa/younghwa/blob/master/cnn_test.ipynb\" target=\"_parent\"><img src=\"https://colab.research.google.com/assets/colab-badge.svg\" alt=\"Open In Colab\"/></a>"
      ]
    },
    {
      "cell_type": "code",
      "metadata": {
        "id": "fNOfmhz40O06",
        "colab_type": "code",
        "colab": {}
      },
      "source": [
        "import tensorflow as tf\n",
        "import keras\n",
        "\n",
        "from keras.models import Sequential\n",
        "from keras.layers import Conv2D, Dense, Flatten, MaxPooling2D, AveragePooling2D\n",
        "from keras.optimizers import Adam\n",
        "from keras.losses import sparse_categorical_crossentropy as scc\n",
        "\n",
        "from keras.datasets import cifar10\n",
        "\n",
        "import numpy as np\n"
      ],
      "execution_count": 12,
      "outputs": []
    },
    {
      "cell_type": "code",
      "metadata": {
        "id": "k_5QMvqH2b-B",
        "colab_type": "code",
        "colab": {}
      },
      "source": [
        "def build_model(width,height,channel):\n",
        "  model=Sequential()\n",
        "\n",
        "  model.add(Conv2D(\n",
        "        filters=16,\n",
        "        kernel_size=(3,3),\n",
        "        padding='same',\n",
        "        activation='relu',\n",
        "        input_shape=(width, height, channel) #어떤 사이즈의 이미지가 들어올 건지 정의\n",
        "  ))\n",
        "  model.add(Conv2D(\n",
        "        filters=16,\n",
        "        kernel_size=(3,3),\n",
        "        padding='same',\n",
        "        activation='relu'\n",
        "  ))\n",
        "  model.add(MaxPooling2D( #각 길이가 1/2로 줄어듦\n",
        "        pool_size=(2,2),\n",
        "        padding='same'\n",
        "  ))\n",
        "\n",
        "  model.add(Conv2D(\n",
        "        filters=32,\n",
        "        kernel_size=(3,3),\n",
        "        padding='same',\n",
        "        activation='relu'\n",
        "  ))\n",
        "  model.add(Conv2D(\n",
        "        filters=32,\n",
        "        kernel_size=(3,3),\n",
        "        padding='same',\n",
        "        activation='relu'\n",
        "  ))\n",
        "  model.add(MaxPooling2D(\n",
        "        pool_size=(2,2),\n",
        "        padding='same'\n",
        "  ))\n",
        "  model.add(Conv2D(\n",
        "        filters=64,\n",
        "        kernel_size=(3,3),\n",
        "        padding='same',\n",
        "        activation='relu'\n",
        "  ))\n",
        "  model.add(AveragePooling2D(\n",
        "        pool_size=(8,8),\n",
        "        padding='same'\n",
        "  ))\n",
        "\n",
        "  model.add(Flatten())\n",
        "  model.add(Dense(\n",
        "        units=640,\n",
        "        activation='relu'\n",
        "  ))\n",
        "  model.add(Dense(\n",
        "        units=10,\n",
        "        activation='softmax'\n",
        "  ))\n",
        "\n",
        "  opt = Adam(learning_rate=0.001)\n",
        "  model.compile(\n",
        "        optimizer=opt,\n",
        "        loss=scc,\n",
        "        metrics=['accuracy']\n",
        "    )\n",
        "\n",
        "  return model\n",
        "\n",
        " "
      ],
      "execution_count": 13,
      "outputs": []
    },
    {
      "cell_type": "code",
      "metadata": {
        "id": "WTxCuX31dvCG",
        "colab_type": "code",
        "colab": {}
      },
      "source": [
        "def data_preprocessing():\n",
        "    (X_train, Y_train), (X_test, Y_test) = cifar10.load_data()\n",
        "\n",
        "    mean=[0,0,0]\n",
        "    std=[0,0,0]\n",
        "    newX_train = np.ones(X_train.shape)\n",
        "    newX_test = np.ones(X_test.shape)\n",
        "    #train set에 있는 데이터로만 평균과 표준편차를 구함\n",
        "    for i in range(3):\n",
        "        mean[i] = np.mean(X_train[:,:,:,i])\n",
        "        std[i] = np.std(X_train[:,:,:,i])\n",
        "\n",
        "    #train과 test셋 모두 정규화 작업    \n",
        "    for i in range(3):\n",
        "        newX_train[:,:,:,i] = X_train[:,:,:,i] - mean[i]\n",
        "        newX_train[:,:,:,i] = newX_train[:,:,:,i] / std[i]\n",
        "        newX_test[:,:,:,i] = X_test[:,:,:,i] - mean[i]\n",
        "        newX_test[:,:,:,i] = newX_test[:,:,:,i] / std[i]\n",
        "            \n",
        "    X_train = newX_train\n",
        "    X_test = newX_test\n",
        "\n",
        "    return (X_train, Y_train), (X_test, Y_test)"
      ],
      "execution_count": 14,
      "outputs": []
    },
    {
      "cell_type": "code",
      "metadata": {
        "id": "NvUsgAEz5BVa",
        "colab_type": "code",
        "colab": {
          "base_uri": "https://localhost:8080/",
          "height": 1000
        },
        "outputId": "9947a3d0-01ac-4e7c-8366-fc435e20a005"
      },
      "source": [
        "(X_train,Y_train),(X_test,Y_test)=cifar10.load_data()\n",
        "\n",
        "model = build_model(X_train.shape[1],X_train.shape[2],X_train.shape[3] )\n",
        "hist= model.fit(\n",
        "    X_train, Y_train,\n",
        "    batch_size=32,    #32개마다 학습\n",
        "    epochs=40,\n",
        "    verbose=1,\n",
        "    shuffle=True, validation_split=0.05  \n",
        ")\n",
        "model.evaluate(X_test,Y_test,verbose=1)\n"
      ],
      "execution_count": 15,
      "outputs": [
        {
          "output_type": "stream",
          "text": [
            "Epoch 1/40\n",
            "1485/1485 [==============================] - 5s 3ms/step - loss: 1.5805 - accuracy: 0.4160 - val_loss: 1.2644 - val_accuracy: 0.5360\n",
            "Epoch 2/40\n",
            "1485/1485 [==============================] - 5s 3ms/step - loss: 1.1954 - accuracy: 0.5716 - val_loss: 1.0643 - val_accuracy: 0.6152\n",
            "Epoch 3/40\n",
            "1485/1485 [==============================] - 5s 3ms/step - loss: 1.0272 - accuracy: 0.6321 - val_loss: 0.9349 - val_accuracy: 0.6672\n",
            "Epoch 4/40\n",
            "1485/1485 [==============================] - 5s 3ms/step - loss: 0.9170 - accuracy: 0.6747 - val_loss: 0.8957 - val_accuracy: 0.6892\n",
            "Epoch 5/40\n",
            "1485/1485 [==============================] - 5s 3ms/step - loss: 0.8310 - accuracy: 0.7065 - val_loss: 0.8644 - val_accuracy: 0.7012\n",
            "Epoch 6/40\n",
            "1485/1485 [==============================] - 5s 3ms/step - loss: 0.7723 - accuracy: 0.7276 - val_loss: 0.7752 - val_accuracy: 0.7312\n",
            "Epoch 7/40\n",
            "1485/1485 [==============================] - 5s 3ms/step - loss: 0.7173 - accuracy: 0.7448 - val_loss: 0.7942 - val_accuracy: 0.7244\n",
            "Epoch 8/40\n",
            "1485/1485 [==============================] - 5s 3ms/step - loss: 0.6772 - accuracy: 0.7618 - val_loss: 0.7768 - val_accuracy: 0.7332\n",
            "Epoch 9/40\n",
            "1485/1485 [==============================] - 5s 3ms/step - loss: 0.6471 - accuracy: 0.7742 - val_loss: 0.7801 - val_accuracy: 0.7328\n",
            "Epoch 10/40\n",
            "1485/1485 [==============================] - 5s 3ms/step - loss: 0.6094 - accuracy: 0.7862 - val_loss: 0.7866 - val_accuracy: 0.7460\n",
            "Epoch 11/40\n",
            "1485/1485 [==============================] - 5s 3ms/step - loss: 0.5842 - accuracy: 0.7928 - val_loss: 0.7940 - val_accuracy: 0.7340\n",
            "Epoch 12/40\n",
            "1485/1485 [==============================] - 5s 3ms/step - loss: 0.5588 - accuracy: 0.8017 - val_loss: 0.7537 - val_accuracy: 0.7512\n",
            "Epoch 13/40\n",
            "1485/1485 [==============================] - 5s 3ms/step - loss: 0.5357 - accuracy: 0.8108 - val_loss: 0.7626 - val_accuracy: 0.7524\n",
            "Epoch 14/40\n",
            "1485/1485 [==============================] - 5s 3ms/step - loss: 0.5157 - accuracy: 0.8161 - val_loss: 0.7612 - val_accuracy: 0.7508\n",
            "Epoch 15/40\n",
            "1485/1485 [==============================] - 5s 3ms/step - loss: 0.4901 - accuracy: 0.8256 - val_loss: 0.8119 - val_accuracy: 0.7400\n",
            "Epoch 16/40\n",
            "1485/1485 [==============================] - 5s 3ms/step - loss: 0.4722 - accuracy: 0.8312 - val_loss: 0.8627 - val_accuracy: 0.7380\n",
            "Epoch 17/40\n",
            "1485/1485 [==============================] - 5s 3ms/step - loss: 0.4650 - accuracy: 0.8337 - val_loss: 0.8356 - val_accuracy: 0.7376\n",
            "Epoch 18/40\n",
            "1485/1485 [==============================] - 5s 3ms/step - loss: 0.4464 - accuracy: 0.8400 - val_loss: 0.8365 - val_accuracy: 0.7436\n",
            "Epoch 19/40\n",
            "1485/1485 [==============================] - 5s 3ms/step - loss: 0.4281 - accuracy: 0.8468 - val_loss: 0.9492 - val_accuracy: 0.7208\n",
            "Epoch 20/40\n",
            "1485/1485 [==============================] - 5s 3ms/step - loss: 0.4141 - accuracy: 0.8514 - val_loss: 0.9056 - val_accuracy: 0.7372\n",
            "Epoch 21/40\n",
            "1485/1485 [==============================] - 5s 3ms/step - loss: 0.4058 - accuracy: 0.8556 - val_loss: 0.8525 - val_accuracy: 0.7412\n",
            "Epoch 22/40\n",
            "1485/1485 [==============================] - 5s 3ms/step - loss: 0.3944 - accuracy: 0.8600 - val_loss: 0.9256 - val_accuracy: 0.7280\n",
            "Epoch 23/40\n",
            "1485/1485 [==============================] - 5s 3ms/step - loss: 0.3890 - accuracy: 0.8614 - val_loss: 0.9372 - val_accuracy: 0.7268\n",
            "Epoch 24/40\n",
            "1485/1485 [==============================] - 5s 3ms/step - loss: 0.3751 - accuracy: 0.8657 - val_loss: 1.0539 - val_accuracy: 0.7236\n",
            "Epoch 25/40\n",
            "1485/1485 [==============================] - 5s 3ms/step - loss: 0.3661 - accuracy: 0.8698 - val_loss: 1.0000 - val_accuracy: 0.7372\n",
            "Epoch 26/40\n",
            "1485/1485 [==============================] - 5s 3ms/step - loss: 0.3588 - accuracy: 0.8717 - val_loss: 1.1252 - val_accuracy: 0.7240\n",
            "Epoch 27/40\n",
            "1485/1485 [==============================] - 5s 3ms/step - loss: 0.3475 - accuracy: 0.8771 - val_loss: 1.0463 - val_accuracy: 0.7324\n",
            "Epoch 28/40\n",
            "1485/1485 [==============================] - 5s 3ms/step - loss: 0.3442 - accuracy: 0.8766 - val_loss: 0.9766 - val_accuracy: 0.7452\n",
            "Epoch 29/40\n",
            "1485/1485 [==============================] - 5s 3ms/step - loss: 0.3314 - accuracy: 0.8822 - val_loss: 1.1350 - val_accuracy: 0.7392\n",
            "Epoch 30/40\n",
            "1485/1485 [==============================] - 5s 3ms/step - loss: 0.3307 - accuracy: 0.8815 - val_loss: 1.0836 - val_accuracy: 0.7164\n",
            "Epoch 31/40\n",
            "1485/1485 [==============================] - 5s 3ms/step - loss: 0.3228 - accuracy: 0.8864 - val_loss: 1.1079 - val_accuracy: 0.7284\n",
            "Epoch 32/40\n",
            "1485/1485 [==============================] - 5s 3ms/step - loss: 0.3185 - accuracy: 0.8868 - val_loss: 1.1400 - val_accuracy: 0.7184\n",
            "Epoch 33/40\n",
            "1485/1485 [==============================] - 5s 3ms/step - loss: 0.3129 - accuracy: 0.8889 - val_loss: 1.2242 - val_accuracy: 0.7232\n",
            "Epoch 34/40\n",
            "1485/1485 [==============================] - 5s 3ms/step - loss: 0.3093 - accuracy: 0.8905 - val_loss: 1.1940 - val_accuracy: 0.7308\n",
            "Epoch 35/40\n",
            "1485/1485 [==============================] - 5s 3ms/step - loss: 0.3048 - accuracy: 0.8923 - val_loss: 1.2477 - val_accuracy: 0.7300\n",
            "Epoch 36/40\n",
            "1485/1485 [==============================] - 5s 3ms/step - loss: 0.3045 - accuracy: 0.8936 - val_loss: 1.1857 - val_accuracy: 0.7344\n",
            "Epoch 37/40\n",
            "1485/1485 [==============================] - 5s 3ms/step - loss: 0.2992 - accuracy: 0.8951 - val_loss: 1.2290 - val_accuracy: 0.7364\n",
            "Epoch 38/40\n",
            "1485/1485 [==============================] - 5s 3ms/step - loss: 0.2886 - accuracy: 0.8981 - val_loss: 1.2407 - val_accuracy: 0.7244\n",
            "Epoch 39/40\n",
            "1485/1485 [==============================] - 5s 3ms/step - loss: 0.2953 - accuracy: 0.8963 - val_loss: 1.3811 - val_accuracy: 0.7144\n",
            "Epoch 40/40\n",
            "1485/1485 [==============================] - 5s 3ms/step - loss: 0.2851 - accuracy: 0.8999 - val_loss: 1.3504 - val_accuracy: 0.7296\n",
            "313/313 [==============================] - 1s 2ms/step - loss: 1.3745 - accuracy: 0.7209\n"
          ],
          "name": "stdout"
        },
        {
          "output_type": "execute_result",
          "data": {
            "text/plain": [
              "[1.374503493309021, 0.7208999991416931]"
            ]
          },
          "metadata": {
            "tags": []
          },
          "execution_count": 15
        }
      ]
    },
    {
      "cell_type": "code",
      "metadata": {
        "id": "ZxT99uAW9SwV",
        "colab_type": "code",
        "colab": {}
      },
      "source": [
        "import matplotlib.pyplot as plt"
      ],
      "execution_count": 16,
      "outputs": []
    },
    {
      "cell_type": "code",
      "metadata": {
        "id": "OhvFTGuJ9iGQ",
        "colab_type": "code",
        "colab": {
          "base_uri": "https://localhost:8080/",
          "height": 545
        },
        "outputId": "a4175778-5ac6-4b82-92b6-a0847a52fdb6"
      },
      "source": [
        "plt.plot(hist.history['accuracy'])\n",
        "plt.title(\"accuracy history\")\n",
        "\n",
        "plt.show()\n",
        "\n",
        "plt.plot(hist.history['loss'])\n",
        "plt.title(\"loss history\")\n",
        "\n",
        "plt.show()"
      ],
      "execution_count": 17,
      "outputs": [
        {
          "output_type": "display_data",
          "data": {
            "image/png": "[encoded data removed]",
            "text/plain": [
              "<Figure size 432x288 with 1 Axes>"
            ]
          },
          "metadata": {
            "tags": [],
            "needs_background": "light"
          }
        },
        {
          "output_type": "display_data",
          "data": {
            "image/png": "[encoded data removed]",
            "text/plain": [
              "<Figure size 432x288 with 1 Axes>"
            ]
          },
          "metadata": {
            "tags": [],
            "needs_background": "light"
          }
        }
      ]
    }
  ]
}